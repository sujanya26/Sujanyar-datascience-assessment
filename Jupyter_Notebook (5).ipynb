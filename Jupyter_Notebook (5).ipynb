{
 "cells": [
  {
   "cell_type": "markdown",
   "metadata": {},
   "source": [
    "<center>\n",
    "    <img src=\"https://cf-courses-data.s3.us.cloud-object-storage.appdomain.cloud/IBMDeveloperSkillsNetwork-DS0105EN-SkillsNetwork/labs/Module2/images/SN_web_lightmode.png\" width=\"300\" alt=\"cognitiveclass.ai logo\">\n",
    "</center>\n"
   ]
  },
  {
   "cell_type": "markdown",
   "metadata": {
    "tags": []
   },
   "source": [
    "#### Add your code below following the instructions given in the course\n"
   ]
  },
  {
   "cell_type": "code",
   "execution_count": null,
   "metadata": {},
   "outputs": [],
   "source": []
  },
  {
   "cell_type": "markdown",
   "metadata": {},
   "source": [
    "#Data Science Tools and Ecosystem "
   ]
  },
  {
   "cell_type": "markdown",
   "metadata": {
    "tags": []
   },
   "source": [
    "#Data Science Tools and Ecosystem - Introduction\n",
    "\n",
    "Datascience languages are:\n",
    "    *Python\n",
    "    *R\n",
    "    *Java\n",
    "    *C++\n",
    "    *SQL\n",
    "    *Julia\n",
    "    *Matlab\n",
    "    *SaS\n",
    "\n",
    "#Datascience repository are:\n",
    "    *GitHub is the most commonly used \n",
    "    *Kaggle and UCi are also used\n",
    "    \n",
    "#Data Management Tools: \n",
    "*Apache_Hadoop\n",
    "*Apache_Kafka\n",
    "*SQL_Databases\n",
    "*Mongo\n",
    "*Pandas\n",
    "\n",
    "    "
   ]
  },
  {
   "cell_type": "markdown",
   "metadata": {
    "tags": []
   },
   "source": [
    "Datascience Languages\n",
    "#Datascience_languages that are used by datascientists commonly are:\n",
    "    *Python\n",
    "    *R\n",
    "    *Java\n",
    "    *C++\n",
    "    *SQL\n",
    "    *Julia\n",
    "    *Matlab\n",
    "    *SaS"
   ]
  },
  {
   "cell_type": "markdown",
   "metadata": {
    "tags": []
   },
   "source": [
    "#Data Science Libraries that are used by datscientists are: \n",
    "*numpy\n",
    "*Pandas\n",
    "*Matplotlib\n",
    "*Scikit-learn\n",
    "*TensorFlow\n",
    "*PyTorch \n",
    "*Seaborn"
   ]
  },
  {
   "cell_type": "markdown",
   "metadata": {
    "tags": []
   },
   "source": [
    "#Data Science Tools\n",
    "\n",
    "#Data Science Tools that are used by the datascientists are:\n",
    "|---|---|\n",
    "|**Jupyter Notebook** | A web-based interactive environment for developing, running, and sharing code, data, and visualizations. Ideal for exploration, prototyping, and documentation. |\n",
    "|**RStudio** | An integrated development environment (IDE) specifically designed for R, offering code editing, debugging, visualization, and project management tools. Perfect for R users seeking a streamlined experience. |\n",
    "|**Visual Studio Code** | A versatile code editor with extensive support for Python (and many other languages) through extensions. Offers customizable features, debugging, and collaboration tools for larger projects. |\n",
    "\n",
    "These tools can enhance your data science workflow and productivity."
   ]
  },
  {
   "cell_type": "markdown",
   "metadata": {
    "tags": []
   },
   "source": [
    "#Arithmetic Expressions\n",
    "\n",
    "Arithmetic expressions combine numbers and operators to perform calculations. Here are some examples:\n",
    "\n",
    "- Addition: `2 + 3 = 5`\n",
    "- Subtraction: `7 - 4 = 3`\n",
    "- Multiplication: `5 * 6 = 30`\n",
    "- Division: `10 / 2 = 5`"
   ]
  },
  {
   "cell_type": "markdown",
   "metadata": {
    "tags": []
   },
   "source": [
    " Multiplication and Addition\n",
    "# Multiply two numbers\n",
    "product = 5 * 3\n",
    "print(\"The product of 5 and 3 is:\", product)\n",
    "\n",
    "# Add three numbers\n",
    "sum_of_numbers = 2 + 4 + 6\n",
    "print(\"The sum of 2, 4, and 6 is:\", sum_of_numbers)"
   ]
  },
  {
   "cell_type": "markdown",
   "metadata": {
    "tags": []
   },
   "source": [
    "# Define the number of minutes\n",
    "minutes = 120\n",
    "\n",
    "# Convert minutes to hours using division and floor division\n",
    "hours = minutes // 60\n",
    "remaining_minutes = minutes % 60\n",
    "\n",
    "# Print the results\n",
    "print(f\"{minutes} minutes is equal to {hours} hours and {remaining_minutes} minutes.\")"
   ]
  },
  {
   "cell_type": "markdown",
   "metadata": {
    "tags": []
   },
   "source": [
    "#Objectives\n",
    "\n",
    "1. Explore data science languages and libraries.\n",
    "2. Understand basic arithmetic expressions.\n",
    "3. Perform calculations in code cells.\n",
    "4. Share the notebook through GitHub."
   ]
  },
  {
   "cell_type": "markdown",
   "metadata": {
    "tags": []
   },
   "source": [
    "#Author\n",
    "\n",
    "**Sujanya**"
   ]
  }
 ],
 "metadata": {
  "kernelspec": {
   "display_name": "Python",
   "language": "python",
   "name": "conda-env-python-py"
  },
  "language_info": {
   "codemirror_mode": {
    "name": "ipython",
    "version": 3
   },
   "file_extension": ".py",
   "mimetype": "text/x-python",
   "name": "python",
   "nbconvert_exporter": "python",
   "pygments_lexer": "ipython3",
   "version": "3.7.12"
  }
 },
 "nbformat": 4,
 "nbformat_minor": 4
}
